{
 "cells": [
  {
   "cell_type": "code",
   "execution_count": 1,
   "metadata": {},
   "outputs": [
    {
     "name": "stdout",
     "output_type": "stream",
     "text": [
      "Pakistan zinda bad!\n"
     ]
    }
   ],
   "source": [
    "print(\"Pakistan zinda bad!\")\n"
   ]
  },
  {
   "cell_type": "code",
   "execution_count": 2,
   "metadata": {},
   "outputs": [
    {
     "name": "stdout",
     "output_type": "stream",
     "text": [
      "We are pakistani\n"
     ]
    }
   ],
   "source": [
    "print('We are pakistani')"
   ]
  },
  {
   "cell_type": "code",
   "execution_count": 3,
   "metadata": {},
   "outputs": [
    {
     "name": "stdout",
     "output_type": "stream",
     "text": [
      "Hello world\n"
     ]
    }
   ],
   "source": [
    "\n",
    "print(\"Hello world\")"
   ]
  },
  {
   "cell_type": "code",
   "execution_count": 4,
   "metadata": {},
   "outputs": [
    {
     "name": "stdout",
     "output_type": "stream",
     "text": [
      "pakistan piaic 27\n"
     ]
    }
   ],
   "source": [
    "\n",
    "a = 'pakistan'\n",
    "b = \"piaic\"\n",
    "c = 27\n",
    "\n",
    "print(a, b, c)"
   ]
  },
  {
   "cell_type": "code",
   "execution_count": 5,
   "metadata": {},
   "outputs": [
    {
     "name": "stdout",
     "output_type": "stream",
     "text": [
      "Your Timing12:30-3:30\n",
      "Enter your Namekainat hanif\n",
      "Enter your father namemuhammad hanif\n",
      "University Nameair university\n",
      "\n",
      "PIAIC ISLAMABAD BATCH3\n",
      "TIMING: 12:30-3:30\n",
      "Name: kainat hanif\n",
      "Father's Name: muhammad hanif\n",
      "University: air university\n",
      "\n"
     ]
    }
   ],
   "source": [
    "timing = input(\"Your Timing\")\n",
    "name = input(\"Enter your Name\")\n",
    "father_name = input(\"Enter your father name\")\n",
    "uni = input(\"University Name\")\n",
    "\n",
    "message = \"\"\"\n",
    "PIAIC ISLAMABAD BATCH3\n",
    "TIMING: {}\n",
    "Name: {}\n",
    "Father's Name: {}\n",
    "University: {}\n",
    "\"\"\"\n",
    "\n",
    "message = message.format(timing, name, father_name, uni)\n",
    "\n",
    "print(message)"
   ]
  },
  {
   "cell_type": "code",
   "execution_count": null,
   "metadata": {},
   "outputs": [],
   "source": []
  }
 ],
 "metadata": {
  "kernelspec": {
   "display_name": "Python 3",
   "language": "python",
   "name": "python3"
  },
  "language_info": {
   "codemirror_mode": {
    "name": "ipython",
    "version": 3
   },
   "file_extension": ".py",
   "mimetype": "text/x-python",
   "name": "python",
   "nbconvert_exporter": "python",
   "pygments_lexer": "ipython3",
   "version": "3.7.3"
  }
 },
 "nbformat": 4,
 "nbformat_minor": 2
}
